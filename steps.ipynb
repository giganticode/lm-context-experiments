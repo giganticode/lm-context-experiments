{
 "cells": [
  {
   "cell_type": "markdown",
   "metadata": {},
   "source": [
    "## Config pre-proc"
   ]
  },
  {
   "cell_type": "code",
   "execution_count": 2,
   "metadata": {},
   "outputs": [
    {
     "name": "stdout",
     "output_type": "stream",
     "text": [
      "Stage is cached, skipping.                                              \n",
      "\u001b[0m"
     ]
    }
   ],
   "source": [
    "!dvc run -f to-fuzzy-sharp-params.dvc -d config.json -d script-data/to-fuzzy-sharp-config.jq -O one-level-params.json 'jq \"$(<script-data/to-fuzzy-sharp-config.jq)\" config.json > one-level-params.json'"
   ]
  },
  {
   "cell_type": "markdown",
   "metadata": {},
   "source": [
    "## Running our code dvc command"
   ]
  },
  {
   "cell_type": "code",
   "execution_count": 3,
   "metadata": {},
   "outputs": [
    {
     "name": "stdout",
     "output_type": "stream",
     "text": [
      "'training.dvc' already exists. Do you wish to run the command and overwrite it? [y/n] ^C\n",
      "\u001b[31mERROR\u001b[39m: interrupted by the user\n",
      "\n",
      "\u001b[33mHaving any troubles?\u001b[39m Hit us up at \u001b[34mhttps://dvc.org/support\u001b[39m, we are always happy to help!\n",
      "\u001b[0m"
     ]
    }
   ],
   "source": [
    "!dvc run -f training.dvc -d data/25k-vocab-corpus -d langmodels-commit-hash.txt -d config.json -o output/best.pth -O output/training_metrics.csv -o output/vocab --no-exec 'virtualenv .venv && source .venv/bin/activate && LANGMODELS_COMMIT_HASH=$(<langmodels-commit-hash.txt) && pip install -r https://raw.githubusercontent.com/giganticode/langmodels/$LANGMODELS_COMMIT_HASH/requirements.txt && pip install git+https://github.com/giganticode/langmodels@$LANGMODELS_COMMIT_HASH && langmodels train --config=$(pwd)/config.json --output-path=$(pwd)/output --patch=\"corpus.path=$(pwd)/data/25k-vocab-corpus\" --rewrite-output; rm -rf .venv'"
   ]
  },
  {
   "cell_type": "markdown",
   "metadata": {},
   "source": [
    "## Running fuzzy sharp ouput command"
   ]
  },
  {
   "cell_type": "code",
   "execution_count": null,
   "metadata": {},
   "outputs": [],
   "source": [
    "!dvc run -f fuzzy-sharp-training.dvc -d scripts/run-fuzzy-sharp-code.sh -d scripts/json-to-cmd-params.py  -d lm-context-analysis-commit-hash.txt -d one-level-params.json -o fuzzy-sharp-output/best.pt -M fuzzy-sharp-output/metrics.csv 'scripts/run-fuzzy-sharp-code.sh $(<lm-context-analysis-commit-hash.txt) $(pwd)/data/25k-vocab-corpus \"$(scripts/json-to-cmd-params.py one-level-params.json)\" $(pwd)/fuzzy-sharp-output/best.pt $(pwd)/fuzzy-sharp-output/metrics.csv'"
   ]
  }
 ],
 "metadata": {
  "kernelspec": {
   "display_name": "Python 3",
   "language": "python",
   "name": "python3"
  },
  "language_info": {
   "codemirror_mode": {
    "name": "ipython",
    "version": 3
   },
   "file_extension": ".py",
   "mimetype": "text/x-python",
   "name": "python",
   "nbconvert_exporter": "python",
   "pygments_lexer": "ipython3",
   "version": "3.7.3"
  }
 },
 "nbformat": 4,
 "nbformat_minor": 4
}
